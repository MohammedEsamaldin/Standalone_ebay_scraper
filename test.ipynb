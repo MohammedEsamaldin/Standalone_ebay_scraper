{
 "cells": [
  {
   "cell_type": "code",
   "execution_count": 44,
   "metadata": {},
   "outputs": [
    {
     "data": {
      "text/plain": [
       "Index(['first column ', 'second column'], dtype='object')"
      ]
     },
     "execution_count": 44,
     "metadata": {},
     "output_type": "execute_result"
    }
   ],
   "source": [
    "import pandas as pd \n",
    "dtype_spec = {'first column ': str, 'second column': str}\n",
    "\n",
    "df  = pd.read_excel('/home/qparts/ebay_scraper/Part Numbers.xlsx', dtype=dtype_spec)\n",
    "cleaned_df_all = df.dropna(subset=['first column ', 'second column'], how='all')\n",
    "dt = cleaned_df_all.fillna('')\n",
    "dt.columns\n",
    "# df.notna()"
   ]
  },
  {
   "cell_type": "code",
   "execution_count": 50,
   "metadata": {},
   "outputs": [
    {
     "data": {
      "text/plain": [
       "first column     2410\n",
       "second column     136\n",
       "dtype: int64"
      ]
     },
     "execution_count": 50,
     "metadata": {},
     "output_type": "execute_result"
    }
   ],
   "source": [
    "df.notna().sum()"
   ]
  },
  {
   "cell_type": "code",
   "execution_count": 45,
   "metadata": {},
   "outputs": [],
   "source": [
    "concated =pd.concat([dt['first column '],dt['second column']], ignore_index=True)\n",
    "dr = concated.to_frame(name = \"Part Number\")\n",
    "dr.count()\n",
    "dr.to_excel('out.xlsx',index=False)"
   ]
  },
  {
   "cell_type": "code",
   "execution_count": 55,
   "metadata": {},
   "outputs": [],
   "source": [
    "dh = pd.read_excel(\"/home/qparts/ebay_scraper/final_workshops.xlsx\")\n",
    "# dh['Part Number'].replace(\"-\",'',inplace=True)\n",
    "dh['Part Number']= dh['Part Number'].str.replace('-', '', regex=True)\n",
    "dh.to_excel('final_final_workshops.xlsx', index=False)"
   ]
  },
  {
   "cell_type": "code",
   "execution_count": null,
   "metadata": {},
   "outputs": [],
   "source": []
  }
 ],
 "metadata": {
  "kernelspec": {
   "display_name": "Python 3",
   "language": "python",
   "name": "python3"
  },
  "language_info": {
   "codemirror_mode": {
    "name": "ipython",
    "version": 3
   },
   "file_extension": ".py",
   "mimetype": "text/x-python",
   "name": "python",
   "nbconvert_exporter": "python",
   "pygments_lexer": "ipython3",
   "version": "3.8.10"
  },
  "orig_nbformat": 4
 },
 "nbformat": 4,
 "nbformat_minor": 2
}
